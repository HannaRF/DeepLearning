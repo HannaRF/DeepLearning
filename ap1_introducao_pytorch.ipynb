{
  "nbformat": 4,
  "nbformat_minor": 0,
  "metadata": {
    "colab": {
      "provenance": [],
      "include_colab_link": true
    },
    "kernelspec": {
      "name": "python3",
      "display_name": "Python 3"
    },
    "language_info": {
      "name": "python"
    }
  },
  "cells": [
    {
      "cell_type": "markdown",
      "metadata": {
        "id": "view-in-github",
        "colab_type": "text"
      },
      "source": [
        "<a href=\"https://colab.research.google.com/github/HannaRF/DeepLearning/blob/main/ap1_introducao_pytorch.ipynb\" target=\"_parent\"><img src=\"https://colab.research.google.com/assets/colab-badge.svg\" alt=\"Open In Colab\"/></a>"
      ]
    },
    {
      "cell_type": "markdown",
      "source": [
        "# Aula Prática 1 - Introdução a Pytorch\n",
        "\n",
        "### Professor : Dário Oliveira\n",
        "### Monitor : João Alcindo\n"
      ],
      "metadata": {
        "id": "3tENFVw2BLQs"
      }
    },
    {
      "cell_type": "code",
      "source": [
        "import torch\n",
        "import numpy as np"
      ],
      "metadata": {
        "id": "ufElIqiaN1Xi"
      },
      "execution_count": null,
      "outputs": []
    },
    {
      "cell_type": "markdown",
      "source": [
        "## O que é PyTorch?\n",
        "\n",
        "PyTorch é uma biblioteca open-source de aprendizado profundo (deep learning) desenvolvida pelo laboratório de pesquisa em inteligência artificial do Facebook, agora conhecido como Meta AI. Lançada em 2016, ela se tornou uma das bibliotecas mais populares para construção de modelos de aprendizado de máquina e aprendizado profundo."
      ],
      "metadata": {
        "id": "99xSGserLAT4"
      }
    },
    {
      "cell_type": "markdown",
      "source": [
        "## [Tensors](https://pytorch.org/tutorials/beginner/basics/tensorqs_tutorial.html)\n",
        "\n",
        "Em PyTorch, um tensor é a estrutura de dados fundamental e pode ser visto como uma generalização de matrizes e vetores para dimensões arbitrárias. Assim como arrays em NumPy, tensores em PyTorch podem ser de várias dimensões:\n",
        "\n",
        "* **Escalar:** Um tensor de zero dimensões (um único número, como 3 ou -5.6).\n",
        "* **Vetor:** Um tensor de uma dimensão (por exemplo, [1.0, 2.0, 3.0]).\n",
        "* **Matriz:** Um tensor de duas dimensões (como uma tabela de valores ou uma imagem em tons de cinza).\n",
        "* **Tensor de Alta Dimensão:** Um tensor com três ou mais dimensões, como uma imagem RGB (altura, largura, canal) ou uma coleção de dados temporais."
      ],
      "metadata": {
        "id": "54Y637B3MC8F"
      }
    },
    {
      "cell_type": "code",
      "execution_count": null,
      "metadata": {
        "colab": {
          "base_uri": "https://localhost:8080/"
        },
        "id": "MCw4kMUeBDym",
        "outputId": "b04880c2-6b2d-4d7a-a319-440bfd9ab596"
      },
      "outputs": [
        {
          "output_type": "stream",
          "name": "stdout",
          "text": [
            "tensor(3.1400)\n",
            "tensor([1., 2., 3.])\n",
            "tensor([[1., 2.],\n",
            "        [3., 4.]])\n",
            "tensor([[[1., 2.],\n",
            "         [3., 4.]],\n",
            "\n",
            "        [[5., 6.],\n",
            "         [7., 8.]]])\n"
          ]
        }
      ],
      "source": [
        "# Criando um tensor escalar\n",
        "scalar = torch.tensor(3.14)\n",
        "print(scalar)\n",
        "\n",
        "# Criando um vetor (tensor de 1 dimensão)\n",
        "vector = torch.tensor([1.0, 2.0, 3.0])\n",
        "print(vector)\n",
        "\n",
        "# Criando uma matriz (tensor de 2 dimensões)\n",
        "matrix = torch.tensor([[1.0, 2.0], [3.0, 4.0]])\n",
        "print(matrix)\n",
        "\n",
        "# Criando um tensor 3D\n",
        "tensor_3d = torch.tensor([[[1.0, 2.0], [3.0, 4.0]], [[5.0, 6.0], [7.0, 8.0]]])\n",
        "print(tensor_3d)\n"
      ]
    },
    {
      "cell_type": "code",
      "source": [
        "# Adição\n",
        "a = torch.tensor([1.0, 2.0, 3.0])\n",
        "b = torch.tensor([4.0, 5.0, 6.0])\n",
        "c = a + b\n",
        "print(c)\n",
        "\n",
        "# Multiplicação Element-wise\n",
        "d = a * b\n",
        "print(d)\n",
        "\n",
        "# Produto de Matrizes\n",
        "matrix1 = torch.tensor([[1.0, 2.0], [3.0, 4.0]])\n",
        "matrix2 = torch.tensor([[5.0, 6.0], [7.0, 8.0]])\n",
        "\n",
        "matrix_prod = torch.matmul(matrix1, matrix2)\n",
        "print(matrix_prod)\n",
        "\n",
        "# Outra maneira de escrever\n",
        "matrix_prod2 = matrix1 @ matrix2\n",
        "print(matrix_prod2)\n",
        "\n",
        "\n",
        "\n"
      ],
      "metadata": {
        "colab": {
          "base_uri": "https://localhost:8080/"
        },
        "id": "VHVRDkRROM88",
        "outputId": "f8786d27-ae92-415c-ccbb-3f7aa810b92f"
      },
      "execution_count": null,
      "outputs": [
        {
          "output_type": "stream",
          "name": "stdout",
          "text": [
            "tensor([5., 7., 9.])\n",
            "tensor([ 4., 10., 18.])\n",
            "tensor([[19., 22.],\n",
            "        [43., 50.]])\n",
            "tensor([[19., 22.],\n",
            "        [43., 50.]])\n"
          ]
        }
      ]
    },
    {
      "cell_type": "code",
      "source": [
        "# Reshape (mudando a forma do tensor)\n",
        "tensor = torch.tensor([[1, 2, 3], [4, 5, 6]])\n",
        "reshaped_tensor = tensor.view(3, 2)  # Redimensionando para 3x2\n",
        "print(reshaped_tensor)\n",
        "\n",
        "# Slicing (fatiando o tensor)\n",
        "tensor = torch.tensor([[1, 2, 3], [4, 5, 6], [7, 8, 9]])\n",
        "sliced_tensor = tensor[:2, 1:]  # Pegando as duas primeiras linhas e colunas a partir da segunda\n",
        "print(sliced_tensor)\n",
        "\n",
        "# Concatenando Tensores\n",
        "tensor1 = torch.tensor([[1, 2]])\n",
        "tensor2 = torch.tensor([[3, 4]])\n",
        "concatenated_tensor = torch.cat((tensor1, tensor2), dim=0)  # Concatenando ao longo da dimensão 0 (linhas)\n",
        "print(concatenated_tensor)\n"
      ],
      "metadata": {
        "colab": {
          "base_uri": "https://localhost:8080/"
        },
        "id": "QrnkqxbqOfjB",
        "outputId": "ad77b4de-d8dc-4322-afc0-eee6b6e4229c"
      },
      "execution_count": null,
      "outputs": [
        {
          "output_type": "stream",
          "name": "stdout",
          "text": [
            "tensor([[1, 2],\n",
            "        [3, 4],\n",
            "        [5, 6]])\n",
            "tensor([[2, 3],\n",
            "        [5, 6]])\n",
            "tensor([[1, 2],\n",
            "        [3, 4]])\n"
          ]
        }
      ]
    },
    {
      "cell_type": "markdown",
      "source": [
        "### Comparação com Arrays NumPy\n",
        "\n",
        "PyTorch tensores são semelhantes aos arrays do NumPy, mas com uma vantagem importante: eles podem ser usados em GPUs para acelerar as operações computacionais intensivas. Além disso, PyTorch oferece suporte automático para backpropagation usando o módulo `autograd`, que calcula automaticamente os gradientes para treinamento de redes neurais."
      ],
      "metadata": {
        "id": "ngaJ48vEBKbO"
      }
    },
    {
      "cell_type": "code",
      "source": [
        "# De Tensor para NumPy\n",
        "tensor = torch.tensor([1.0, 2.0, 3.0])\n",
        "numpy_array = tensor.numpy()\n",
        "print(numpy_array)\n",
        "\n",
        "# De NumPy para Tensor\n",
        "numpy_array = np.array([4.0, 5.0, 6.0])\n",
        "tensor_from_numpy = torch.tensor(numpy_array)\n",
        "print(tensor_from_numpy)"
      ],
      "metadata": {
        "colab": {
          "base_uri": "https://localhost:8080/"
        },
        "id": "1nNbkrkNO3cf",
        "outputId": "ffc75d8b-3bb2-4e27-ca18-5ddaa031c76c"
      },
      "execution_count": null,
      "outputs": [
        {
          "output_type": "stream",
          "name": "stdout",
          "text": [
            "[1. 2. 3.]\n",
            "tensor([4., 5., 6.], dtype=torch.float64)\n"
          ]
        }
      ]
    },
    {
      "cell_type": "markdown",
      "source": [
        "## Dataset e Dataloader\n",
        "\n",
        "### Dataset\n",
        "\n",
        "O módulo `torch.utils.data.Dataset` é uma abstração que permite carregar e manipular dados de maneira eficiente em PyTorch. Ele serve como uma interface para conjuntos de dados, fornecendo uma maneira de acessar e transformar dados de forma estruturada.\n",
        "\n",
        "### Dataloader\n",
        "\n",
        "O `DataLoader` é uma classe que facilita o manuseio de grandes datasets, fornecendo uma interface para iterar sobre eles de maneira eficiente, particularmente em mini-batches. Ele suporta a leitura de dados em paralelo usando múltiplos processos, embaralhamento dos dados, e carregamento de dados em mini-lotes (batches).\n",
        "\n",
        "\n",
        "\n",
        "\n"
      ],
      "metadata": {
        "id": "gJ1tH6j7BWll"
      }
    },
    {
      "cell_type": "markdown",
      "source": [
        "### Carregando um Dataset :"
      ],
      "metadata": {
        "id": "K3fMD3ovY8R4"
      }
    },
    {
      "cell_type": "code",
      "source": [
        "from torch.utils.data import Dataset\n",
        "from torchvision import datasets\n",
        "from torchvision.transforms import ToTensor\n",
        "import matplotlib.pyplot as plt\n"
      ],
      "metadata": {
        "id": "XjHoTA3RZD5m"
      },
      "execution_count": null,
      "outputs": []
    },
    {
      "cell_type": "code",
      "source": [
        "\n",
        "training_data = datasets.FashionMNIST(\n",
        "    root=\"data\",\n",
        "    train=True,\n",
        "    download=True,\n",
        "    transform=ToTensor()\n",
        ")\n",
        "\n",
        "test_data = datasets.FashionMNIST(\n",
        "    root=\"data\",\n",
        "    train=False,\n",
        "    download=True,\n",
        "    transform=ToTensor()\n",
        ")"
      ],
      "metadata": {
        "id": "vm6vM2ESY_EE",
        "colab": {
          "base_uri": "https://localhost:8080/"
        },
        "outputId": "5e4caf16-0c21-4542-a0d9-45b0d37616d7"
      },
      "execution_count": null,
      "outputs": [
        {
          "output_type": "stream",
          "name": "stdout",
          "text": [
            "Downloading http://fashion-mnist.s3-website.eu-central-1.amazonaws.com/train-images-idx3-ubyte.gz\n",
            "Downloading http://fashion-mnist.s3-website.eu-central-1.amazonaws.com/train-images-idx3-ubyte.gz to data/FashionMNIST/raw/train-images-idx3-ubyte.gz\n"
          ]
        },
        {
          "output_type": "stream",
          "name": "stderr",
          "text": [
            "100%|██████████| 26421880/26421880 [00:04<00:00, 6479794.81it/s]\n"
          ]
        },
        {
          "output_type": "stream",
          "name": "stdout",
          "text": [
            "Extracting data/FashionMNIST/raw/train-images-idx3-ubyte.gz to data/FashionMNIST/raw\n",
            "\n",
            "Downloading http://fashion-mnist.s3-website.eu-central-1.amazonaws.com/train-labels-idx1-ubyte.gz\n",
            "Downloading http://fashion-mnist.s3-website.eu-central-1.amazonaws.com/train-labels-idx1-ubyte.gz to data/FashionMNIST/raw/train-labels-idx1-ubyte.gz\n"
          ]
        },
        {
          "output_type": "stream",
          "name": "stderr",
          "text": [
            "100%|██████████| 29515/29515 [00:00<00:00, 133906.57it/s]\n"
          ]
        },
        {
          "output_type": "stream",
          "name": "stdout",
          "text": [
            "Extracting data/FashionMNIST/raw/train-labels-idx1-ubyte.gz to data/FashionMNIST/raw\n",
            "\n",
            "Downloading http://fashion-mnist.s3-website.eu-central-1.amazonaws.com/t10k-images-idx3-ubyte.gz\n",
            "Downloading http://fashion-mnist.s3-website.eu-central-1.amazonaws.com/t10k-images-idx3-ubyte.gz to data/FashionMNIST/raw/t10k-images-idx3-ubyte.gz\n"
          ]
        },
        {
          "output_type": "stream",
          "name": "stderr",
          "text": [
            "100%|██████████| 4422102/4422102 [00:01<00:00, 2518024.51it/s]\n"
          ]
        },
        {
          "output_type": "stream",
          "name": "stdout",
          "text": [
            "Extracting data/FashionMNIST/raw/t10k-images-idx3-ubyte.gz to data/FashionMNIST/raw\n",
            "\n",
            "Downloading http://fashion-mnist.s3-website.eu-central-1.amazonaws.com/t10k-labels-idx1-ubyte.gz\n",
            "Downloading http://fashion-mnist.s3-website.eu-central-1.amazonaws.com/t10k-labels-idx1-ubyte.gz to data/FashionMNIST/raw/t10k-labels-idx1-ubyte.gz\n"
          ]
        },
        {
          "output_type": "stream",
          "name": "stderr",
          "text": [
            "100%|██████████| 5148/5148 [00:00<00:00, 15865008.81it/s]\n"
          ]
        },
        {
          "output_type": "stream",
          "name": "stdout",
          "text": [
            "Extracting data/FashionMNIST/raw/t10k-labels-idx1-ubyte.gz to data/FashionMNIST/raw\n",
            "\n"
          ]
        }
      ]
    },
    {
      "cell_type": "markdown",
      "source": [
        "### Iterando e Visualizando"
      ],
      "metadata": {
        "id": "YcbGjaCrZsRo"
      }
    },
    {
      "cell_type": "code",
      "source": [
        "labels_map = {\n",
        "    0: \"T-Shirt\",\n",
        "    1: \"Trouser\",\n",
        "    2: \"Pullover\",\n",
        "    3: \"Dress\",\n",
        "    4: \"Coat\",\n",
        "    5: \"Sandal\",\n",
        "    6: \"Shirt\",\n",
        "    7: \"Sneaker\",\n",
        "    8: \"Bag\",\n",
        "    9: \"Ankle Boot\",\n",
        "}\n",
        "\n",
        "\n",
        "figure = plt.figure(figsize=(8, 8))\n",
        "cols, rows = 3, 3\n",
        "\n",
        "for i in range(1, cols * rows + 1):\n",
        "    sample_idx = torch.randint(len(training_data), size=(1,)).item()\n",
        "    img, label = training_data[sample_idx]\n",
        "    figure.add_subplot(rows, cols, i)\n",
        "    plt.title(labels_map[label])\n",
        "    plt.axis(\"off\")\n",
        "    plt.imshow(img.squeeze(), cmap=\"gray\")\n",
        "plt.show()"
      ],
      "metadata": {
        "colab": {
          "base_uri": "https://localhost:8080/",
          "height": 675
        },
        "id": "7sCG6nM5Zwaq",
        "outputId": "66ceb05e-a9f1-4bb2-e722-a58363536229"
      },
      "execution_count": null,
      "outputs": [
        {
          "output_type": "display_data",
          "data": {
            "text/plain": [
              "<Figure size 800x800 with 9 Axes>"
            ],
            "image/png": "[encoded data removed]"
          },
          "metadata": {}
        }
      ]
    },
    {
      "cell_type": "markdown",
      "source": [
        "### Criando seu próprio Dataset\n",
        "\n",
        "Para criar um Dataset customizado em PyTorch, a classe deve implementar três funções principais: __init__, __len__, e __getitem__. Vamos examinar uma implementação onde as imagens do FashionMNIST são armazenadas em um diretório img_dir, e seus rótulos são armazenados separadamente em um arquivo CSV chamado annotations_file."
      ],
      "metadata": {
        "id": "TM5YRy1RaAoa"
      }
    },
    {
      "cell_type": "code",
      "source": [
        "import os\n",
        "import pandas as pd\n",
        "from torchvision.io import read_image\n",
        "from torch.utils.data import Dataset\n"
      ],
      "metadata": {
        "id": "uf-qAE0Vb5v5"
      },
      "execution_count": null,
      "outputs": []
    },
    {
      "cell_type": "code",
      "source": [
        "class CustomImageDataset(Dataset):\n",
        "    def __init__(self, annotations_file, img_dir, transform=None, target_transform=None):\n",
        "        self.img_labels = pd.read_csv(annotations_file)\n",
        "        self.img_dir = img_dir\n",
        "        self.transform = transform\n",
        "        self.target_transform = target_transform\n",
        "\n",
        "    def __len__(self):\n",
        "        return len(self.img_labels)\n",
        "\n",
        "    def __getitem__(self, idx):\n",
        "        img_path = os.path.join(self.img_dir, self.img_labels.iloc[idx, 0])\n",
        "        image = read_image(img_path)\n",
        "        label = self.img_labels.iloc[idx, 1]\n",
        "        if self.transform:\n",
        "            image = self.transform(image)\n",
        "        if self.target_transform:\n",
        "            label = self.target_transform(label)\n",
        "        return image, label"
      ],
      "metadata": {
        "id": "gcIhnloOb5Nr"
      },
      "execution_count": null,
      "outputs": []
    },
    {
      "cell_type": "markdown",
      "source": [
        "####  `__init__`\n",
        "A função `__init__` é executada uma única vez quando o objeto Dataset é instanciado. Nela, inicializamos o diretório que contém as imagens, o arquivo de anotações (CSV) e as transformações .\n",
        "\n",
        "Aqui está um exemplo de como o arquivo `labels.csv` poderia se parecer:\n",
        "\n",
        "```\n",
        "tshirt1.jpg, 0\n",
        "tshirt2.jpg, 0\n",
        "......\n",
        "ankleboot999.jpg, 9\n",
        "\n",
        "\n",
        "```\n",
        "\n",
        "#### `__len__`\n",
        "\n",
        "A função `__len__` retorna o número de amostras no dataset. É útil para determinar o tamanho do dataset, especialmente ao trabalhar com mini-batches durante o treinamento.\n",
        "\n",
        "#### `__getitem__`\n",
        "\n",
        "A função `__getitem__` carrega e retorna uma amostra do dataset no índice fornecido idx. Baseado nesse índice, a função:\n",
        "\n",
        "1. Identifica a localização da imagem no disco.\n",
        "2. Converte a imagem em um tensor usando read_image.\n",
        "3. Recupera o rótulo correspondente a partir dos dados CSV armazenados em self.img_labels.\n",
        "4. Aplica as funções de transformação na imagem e no rótulo (se aplicáveis).\n",
        "5. Retorna a imagem em formato tensor e o rótulo correspondente.\n",
        "\n",
        "\n",
        "\n",
        "\n"
      ],
      "metadata": {
        "id": "h5fLsD66cCpO"
      }
    },
    {
      "cell_type": "markdown",
      "source": [
        "### DataLoader"
      ],
      "metadata": {
        "id": "XRuIjBCIoaeE"
      }
    },
    {
      "cell_type": "markdown",
      "source": [
        "Após criar um dataset, você pode usar o DataLoader para carregar os dados de forma eficiente durante o treinamento:"
      ],
      "metadata": {
        "id": "RKJS2ukrokla"
      }
    },
    {
      "cell_type": "code",
      "source": [
        "from torch.utils.data import DataLoader\n",
        "\n",
        "train_dataloader = DataLoader(training_data, batch_size=64, shuffle=True)\n",
        "test_dataloader = DataLoader(test_data, batch_size=64, shuffle=True)"
      ],
      "metadata": {
        "id": "YXDWHREYobp-"
      },
      "execution_count": null,
      "outputs": []
    },
    {
      "cell_type": "markdown",
      "source": [
        "* `batch_size`: Define o tamanho dos lotes (número de amostras por lote).\n",
        "* `shuffle`: Se True, embaralha os dados a cada epoch, garantindo que os dados sejam apresentados ao modelo em uma ordem diferente a cada vez."
      ],
      "metadata": {
        "id": "7jORCzplopIt"
      }
    },
    {
      "cell_type": "markdown",
      "source": [
        "### Data Augmentation\n",
        "\n",
        "O PyTorch oferece a classe `torchvision.transforms` para aplicar transformações em imagens e outros tipos de dados durante o processo de carregamento. Essas transformações podem ser aplicadas diretamente no Dataset."
      ],
      "metadata": {
        "id": "ceKKQtUYo3Z9"
      }
    },
    {
      "cell_type": "code",
      "source": [
        "from torchvision import transforms\n",
        "\n",
        "# Definindo transformações\n",
        "transform = transforms.Compose([\n",
        "    transforms.Resize((128, 128)),\n",
        "    transforms.ToTensor(),\n",
        "    transforms.Normalize((0.5,), (0.5,))  # Normalizando para o intervalo [-1, 1]\n",
        "])\n",
        "\n",
        "# Aplicando transformações a um dataset de imagens\n",
        "training_data = datasets.FashionMNIST(\n",
        "    root=\"data\",\n",
        "    train=True,\n",
        "    download=True,\n",
        "    transform=transform\n",
        ")\n",
        "\n",
        "test_data = datasets.FashionMNIST(\n",
        "    root=\"data\",\n",
        "    train=False,\n",
        "    download=True,\n",
        "    transform=transform\n",
        ")\n",
        "\n",
        "train_dataloader = DataLoader(training_data, batch_size=64, shuffle=True)\n",
        "test_dataloader = DataLoader(test_data, batch_size=64, shuffle=True)"
      ],
      "metadata": {
        "id": "NhB-P6Dno3y9"
      },
      "execution_count": null,
      "outputs": []
    },
    {
      "cell_type": "markdown",
      "source": [
        "## Construindo uma Rede Neural\n",
        "\n",
        "Em PyTorch, um modelo pode ser definido criando uma subclasse da classe `torch.nn.Module`. O processo de definição do modelo ocorre em duas etapas: primeiro, especificamos os parâmetros do modelo e, em seguida, descrevemos como esses parâmetros são aplicados às entradas. Para operações que não envolvem parâmetros treináveis, como funções de ativação (por exemplo, ReLU) ou operações como maxpooling, geralmente usamos o módulo `torch.nn.functional`.\n",
        "\n",
        "### Exemplo com uma camada oculta:\n",
        "\n"
      ],
      "metadata": {
        "id": "qLp_cUoaqmCW"
      }
    },
    {
      "cell_type": "code",
      "source": [
        "import torch.nn as nn\n",
        "import torch.nn.functional as F\n",
        "\n",
        "class TwoLayerNet(nn.Module):\n",
        "    def __init__(self, D_in, H, D_out):\n",
        "        \"\"\"\n",
        "        No construtor, instanciamos dois módulos nn.Linear e os atribuímos como\n",
        "        variáveis membro.\n",
        "\n",
        "        D_in: dimensão da entrada\n",
        "        H: dimensão da camada oculta\n",
        "        D_out: dimensão da saída\n",
        "        \"\"\"\n",
        "        super(TwoLayerNet, self).__init__()\n",
        "        self.linear1 = nn.Linear(D_in, H)\n",
        "        self.linear2 = nn.Linear( H,D_out)\n",
        "\n",
        "    def forward(self, x):\n",
        "        \"\"\"\n",
        "        Na função forward, aceitamos uma variável de dados de entrada e devemos\n",
        "        retornar uma variável de dados de saída. Podemos usar módulos definidos no\n",
        "        construtor, bem como operadores arbitrários em variáveis.\n",
        "        \"\"\"\n",
        "        h_relu = F.relu(self.linear1(x))\n",
        "        y_pred = self.linear2(h_relu)\n",
        "        return y_pred\n"
      ],
      "metadata": {
        "id": "MQAy0cQEHRBW"
      },
      "execution_count": null,
      "outputs": []
    },
    {
      "cell_type": "markdown",
      "source": [
        "#### **Entendendo o Código**\n",
        "\n",
        "- **`__init__`**:\n",
        "  - A função `__init__` inicializa as duas camadas lineares (`linear1` e `linear2`) do modelo. A PyTorch cuida da inicialização adequada dos parâmetros que você especifica.\n",
        "  - `D_in`: Dimensão da entrada.\n",
        "  - `H`: Dimensão da camada oculta.\n",
        "  - `D_out`: Dimensão da saída.\n",
        "\n",
        "- **`forward`**:\n",
        "  - Na função `forward`, aplicamos a primeira camada linear aos dados de entrada `x`, depois aplicamos a função de ativação ReLU, e em seguida, aplicamos a segunda camada linear.\n",
        "  - `h_relu`: Contém as ativações após a primeira camada e a aplicação da função ReLU.\n",
        "  - `y_pred`: A saída prevista pelo modelo após a segunda camada.\n",
        "\n",
        "\n",
        "#### **Dimensões do Input e Batch Size**\n",
        "\n",
        "O módulo assume que a primeira dimensão de `x` é o tamanho do batch. Se a entrada da rede for simplesmente um vetor de dimensão 100 e o tamanho do batch for 32, então a dimensão de `x` seria `(32, 100)`."
      ],
      "metadata": {
        "id": "k4C7kwEdHdm1"
      }
    },
    {
      "cell_type": "code",
      "source": [
        "from torch.autograd import Variable\n",
        "\n",
        "# N é o tamanho do batch; D_in é a dimensão da entrada;\n",
        "# H é a dimensão da camada oculta; D_out é a dimensão da saída.\n",
        "N, D_in, H, D_out = 32, 100, 50, 10\n",
        "\n",
        "# Crie Tensores aleatórios para armazenar entradas e saídas, e encapsule-os em Variáveis\n",
        "x = Variable(torch.randn(N, D_in))  # dim: 32 x 100\n",
        "\n",
        "# Construa nosso modelo instanciando a classe definida acima\n",
        "model = TwoLayerNet(D_in, H, D_out)\n",
        "\n",
        "# Passagem direta: Computa y previsto passando x ao modelo\n",
        "y_pred = model(x)   # dim: 32 x 10"
      ],
      "metadata": {
        "id": "PxKYWmfJH5gH"
      },
      "execution_count": null,
      "outputs": []
    },
    {
      "cell_type": "code",
      "source": [
        "y_pred.shape"
      ],
      "metadata": {
        "colab": {
          "base_uri": "https://localhost:8080/"
        },
        "id": "5nj3uQFN5X4X",
        "outputId": "6ac35403-e6cf-4b87-ad90-3456402a64f1"
      },
      "execution_count": null,
      "outputs": [
        {
          "output_type": "execute_result",
          "data": {
            "text/plain": [
              "torch.Size([32, 10])"
            ]
          },
          "metadata": {},
          "execution_count": 29
        }
      ]
    },
    {
      "cell_type": "code",
      "source": [
        "print(f\"Model structure: {model}\\n\\n\")"
      ],
      "metadata": {
        "colab": {
          "base_uri": "https://localhost:8080/"
        },
        "id": "p68EeUB0UEjF",
        "outputId": "b9d173e1-3f5e-40e1-c6e7-211b37821338"
      },
      "execution_count": null,
      "outputs": [
        {
          "output_type": "stream",
          "name": "stdout",
          "text": [
            "Model structure: TwoLayerNet(\n",
            "  (linear1): Linear(in_features=100, out_features=50, bias=True)\n",
            "  (linear2): Linear(in_features=50, out_features=10, bias=True)\n",
            ")\n",
            "\n",
            "\n"
          ]
        }
      ]
    },
    {
      "cell_type": "markdown",
      "source": [
        "### **Modelos Mais Complexos**\n",
        "\n",
        "Modelos mais complexos seguem o mesmo layout básico, onde você define as camadas no construtor e implementa a lógica de passagem direta na função `forward`. Em posts subsequentes, podemos explorar arquiteturas mais avançadas, como redes convolucionais e redes recorrentes. Se precisar de mais exemplos ou explicações detalhadas, estou à disposição!"
      ],
      "metadata": {
        "id": "cvaPrDk3IBxJ"
      }
    },
    {
      "cell_type": "markdown",
      "source": [
        "## **Loss Function**\n",
        "\n",
        "O PyTorch oferece várias funções de perda padrão no módulo `torch.nn` que você pode utilizar. Uma das mais comuns para problemas de classificação multiclasse é a `CrossEntropyLoss`. Vamos explorar como calcular essa perda.\n",
        "\n",
        "#### **Exemplo: Cross Entropy Loss**\n",
        "\n",
        "Suponha que seu modelo resolva um problema de classificação multiclasse com `C` classes. Para um batch de tamanho `N`, a saída do modelo (`out`) é uma variável PyTorch de dimensão `NxC`, obtida ao passar um batch de entrada pelo modelo. Temos também uma variável `target` de tamanho `N`, onde cada elemento é a classe correta para cada exemplo, ou seja, um rótulo em `[0,...,C-1]`.\n",
        "\n",
        "Você pode definir a função de perda e calcular a perda da seguinte maneira:"
      ],
      "metadata": {
        "id": "pHpNulvtI2C-"
      }
    },
    {
      "cell_type": "code",
      "source": [
        "# Suponha que temos um batch de dados com 32 amostras e 10 classes\n",
        "N, C = 32, 10  # N: tamanho do batch, C: número de classes\n",
        "\n",
        "# Criando um tensor de previsões 'out' com dimensões NxC (32x10)\n",
        "out = torch.randn(N, C, requires_grad=True)  # Previsões do modelo (logits)\n",
        "\n",
        "# Criando um tensor de rótulos verdadeiros 'target' com tamanho N (32)\n",
        "target = torch.randint(0, C, (N,))  # Rótulos verdadeiros para cada amostra"
      ],
      "metadata": {
        "id": "4F-pgpFJL4rQ"
      },
      "execution_count": null,
      "outputs": []
    },
    {
      "cell_type": "code",
      "source": [
        "# Definindo a função de perda Cross Entropy\n",
        "loss_fn = nn.CrossEntropyLoss()\n",
        "\n",
        "# Calculando a perda\n",
        "loss = loss_fn(out, target)\n",
        "\n",
        "print(f\"Loss: {loss.item()}\")\n"
      ],
      "metadata": {
        "colab": {
          "base_uri": "https://localhost:8080/"
        },
        "id": "x9TIKBn4I42C",
        "outputId": "50a11725-750c-46ea-e993-30970b244e75"
      },
      "execution_count": null,
      "outputs": [
        {
          "output_type": "stream",
          "name": "stdout",
          "text": [
            "Loss: 2.7162721157073975\n"
          ]
        }
      ]
    },
    {
      "cell_type": "markdown",
      "source": [
        "#### **Escrevendo sua Própria Função de Perda**\n",
        "\n",
        "O PyTorch facilita a criação de funções de perda personalizadas. Vamos ver como escrever uma função de perda Cross Entropy personalizada:"
      ],
      "metadata": {
        "id": "f_xa-REBI4SD"
      }
    },
    {
      "cell_type": "code",
      "source": [
        "def myCrossEntropyLoss(outputs, labels):\n",
        "    batch_size = outputs.size()[0]            # tamanho do batch\n",
        "    outputs = F.log_softmax(outputs, dim=1)   # calcula o log dos valores softmax\n",
        "    outputs = outputs[range(batch_size), labels] # seleciona os valores correspondentes aos rótulos\n",
        "    return -torch.sum(outputs)/batch_size"
      ],
      "metadata": {
        "id": "DTtPbaYRI_bZ"
      },
      "execution_count": null,
      "outputs": []
    },
    {
      "cell_type": "markdown",
      "source": [
        "\n",
        "Neste exemplo:\n",
        "- **`F.log_softmax(outputs, dim=1)`**: Aplica a função softmax nos outputs e calcula o log.\n",
        "- **`outputs[range(batch_size), labels]`**: Seleciona os valores correspondentes aos rótulos fornecidos.\n",
        "- **`-torch.sum(outputs)/batch_size`**: Calcula a perda média para o batch.\n",
        "\n",
        "Este é um exemplo simples de como você pode personalizar funções de perda."
      ],
      "metadata": {
        "id": "dKvjgSyEJHzX"
      }
    },
    {
      "cell_type": "markdown",
      "source": [
        "## **Otimizador**\n",
        "\n",
        "O pacote `torch.optim` fornece uma interface fácil de usar para algoritmos de otimização comuns. Definir o otimizador é muito simples:\n",
        "\n",
        "#### **Exemplo: Otimizadores SGD e Adam**"
      ],
      "metadata": {
        "id": "SWVMqevLJV9q"
      }
    },
    {
      "cell_type": "code",
      "source": [
        "import torch.optim as optim\n",
        "\n",
        "# Escolhendo o otimizador SGD\n",
        "optimizer = torch.optim.SGD(model.parameters(), lr=0.01, momentum=0.9)\n",
        "\n",
        "# Ou escolhendo o otimizador Adam\n",
        "optimizer = torch.optim.Adam(model.parameters(), lr=0.0001)"
      ],
      "metadata": {
        "id": "RwPEK6g8JaPh"
      },
      "execution_count": null,
      "outputs": []
    },
    {
      "cell_type": "markdown",
      "source": [
        "\n",
        "Aqui:\n",
        "- **`model.parameters()`**: Passa os parâmetros do modelo que precisam ser atualizados a cada iteração.\n",
        "- **`lr`**: Define a taxa de aprendizado.\n",
        "- **`momentum`**: É um hiperparâmetro que pode ser usado com o otimizador SGD para acelerar o treinamento em direção a mínimos e reduzir oscilações.\n",
        "\n",
        "Você também pode especificar métodos mais complexos, como taxas de aprendizado por camada ou até por parâmetro.\n",
        "\n",
        "#### **Atualizando os Parâmetros**\n",
        "\n",
        "Após calcular os gradientes com `loss.backward()`, você pode atualizar os parâmetros do modelo chamando `optimizer.step()`:"
      ],
      "metadata": {
        "id": "oyTMbn3nJc6s"
      }
    },
    {
      "cell_type": "code",
      "source": [
        "# Calculando gradientes\n",
        "loss.backward()\n",
        "\n",
        "# Atualizando os parâmetros\n",
        "optimizer.step()"
      ],
      "metadata": {
        "id": "Kdu8PlXMJwqo"
      },
      "execution_count": null,
      "outputs": []
    },
    {
      "cell_type": "markdown",
      "source": [
        "## Treinamento\n",
        "\n",
        "O núcleo do algoritmo de treinamento em PyTorch pode ser resumido em apenas cinco linhas de código. Esses passos são responsáveis por passar um batch de entradas pelo modelo, calcular a perda, realizar a retropropagação e atualizar os parâmetros do modelo.\n",
        "\n",
        "```python\n",
        "output_batch = model(train_batch)           # computa a saída do modelo\n",
        "loss = loss_fn(output_batch, labels_batch)  # calcula a perda\n",
        "\n",
        "optimizer.zero_grad()  # limpa gradientes anteriores\n",
        "loss.backward()        # computa os gradientes de todas as variáveis em relação à perda\n",
        "\n",
        "optimizer.step()   \n",
        "```\n",
        "\n",
        "#### **Explicação das Etapas:**\n",
        "\n",
        "1. **`output_batch = model(train_batch)`**: Passa um batch de dados de treinamento pelo modelo para obter as previsões. Aqui, `train_batch` é um tensor que representa o batch de dados de entrada e `output_batch` é o tensor das saídas do modelo para esse batch.\n",
        "\n",
        "2. **`loss = loss_fn(output_batch, labels_batch)`**: Calcula a função de perda comparando as previsões do modelo (`output_batch`) com os rótulos reais (`labels_batch`). A função de perda é usada para quantificar o quão errado o modelo está nas suas previsões.\n",
        "\n",
        "3. **`optimizer.zero_grad()`**: Zera os gradientes dos parâmetros do modelo. No PyTorch, os gradientes são acumulados por padrão, então é importante limpá-los antes de calcular novos gradientes para evitar acumulação indesejada.\n",
        "\n",
        "4. **`loss.backward()`**: Executa a backpropagation, calculando os gradientes de todos os parâmetros do modelo em relação à perda. Isso é crucial para o ajuste dos pesos do modelo na próxima etapa.\n",
        "\n",
        "5. **`optimizer.step()`**: Atualiza os parâmetros do modelo com base nos gradientes calculados na etapa anterior. Esse passo aplica o algoritmo de otimização (como SGD, Adam, etc.) para minimizar a função de perda e, consequentemente, melhorar o desempenho do modelo.\n",
        "\n",
        "Cada uma dessas variáveis (`train_batch`, `labels_batch`, `output_batch` e `loss`) é um tensor PyTorch e permite que derivadas sejam calculadas automaticamente, facilitando o processo de treinamento de modelos."
      ],
      "metadata": {
        "id": "Uu9AKhXnPzRN"
      }
    },
    {
      "cell_type": "markdown",
      "source": [
        "### GPU\n",
        "\n"
      ],
      "metadata": {
        "id": "XQ8Dh5Xlw5BK"
      }
    },
    {
      "cell_type": "code",
      "source": [
        "device = torch.device(\"cuda\" if torch.cuda.is_available() else \"cpu\")\n",
        "\n",
        "print(device)"
      ],
      "metadata": {
        "colab": {
          "base_uri": "https://localhost:8080/"
        },
        "id": "sTaDDSZSw7K9",
        "outputId": "d61ddf80-fa5c-4e4b-b0c4-bd0ead317600"
      },
      "execution_count": null,
      "outputs": [
        {
          "output_type": "stream",
          "name": "stdout",
          "text": [
            "cpu\n"
          ]
        }
      ]
    },
    {
      "cell_type": "code",
      "source": [
        "model = TwoLayerNet(D_in, H, D_out).to(device)\n"
      ],
      "metadata": {
        "id": "TIetwfB8w-Vf"
      },
      "execution_count": null,
      "outputs": []
    },
    {
      "cell_type": "markdown",
      "source": [
        "### Save and Load"
      ],
      "metadata": {
        "id": "Q7t69nHFxfRz"
      }
    },
    {
      "cell_type": "code",
      "source": [
        "from google.colab import drive\n",
        "drive.mount('/content/drive')"
      ],
      "metadata": {
        "colab": {
          "base_uri": "https://localhost:8080/"
        },
        "id": "ilLnTSHpz1OJ",
        "outputId": "5f6bbd3e-6eaa-4268-e3d7-99d47e61691f"
      },
      "execution_count": null,
      "outputs": [
        {
          "output_type": "stream",
          "name": "stdout",
          "text": [
            "Mounted at /content/drive\n"
          ]
        }
      ]
    },
    {
      "cell_type": "code",
      "source": [
        "import torchvision.models as models\n"
      ],
      "metadata": {
        "id": "sQQY5ebwzpaJ"
      },
      "execution_count": null,
      "outputs": []
    },
    {
      "cell_type": "code",
      "source": [
        "model = models.vgg16(weights='IMAGENET1K_V1')\n",
        "torch.save(model.state_dict(), '/content/drive/MyDrive/mestrado/monitoria/vgg16_model_weights.pth')"
      ],
      "metadata": {
        "colab": {
          "base_uri": "https://localhost:8080/"
        },
        "id": "nA7Cnigizp2I",
        "outputId": "3d7af74d-5c22-42a4-85a3-870c4de38421"
      },
      "execution_count": null,
      "outputs": [
        {
          "output_type": "stream",
          "name": "stderr",
          "text": [
            "Downloading: \"https://download.pytorch.org/models/vgg16-397923af.pth\" to /root/.cache/torch/hub/checkpoints/vgg16-397923af.pth\n",
            "100%|██████████| 528M/528M [00:09<00:00, 60.7MB/s]\n"
          ]
        }
      ]
    },
    {
      "cell_type": "code",
      "source": [
        "model = models.vgg16() # we do not specify ``weights``, i.e. create untrained model\n",
        "model.load_state_dict(torch.load('/content/drive/MyDrive/mestrado/monitoria/vgg16_model_weights.pth'))\n",
        "model.eval()"
      ],
      "metadata": {
        "colab": {
          "base_uri": "https://localhost:8080/"
        },
        "id": "fUksw8J-zqJ5",
        "outputId": "34165ec6-38be-4b25-b3ff-89eccd3af977"
      },
      "execution_count": null,
      "outputs": [
        {
          "output_type": "stream",
          "name": "stderr",
          "text": [
            "<ipython-input-27-cbe737dc6f02>:2: FutureWarning: You are using `torch.load` with `weights_only=False` (the current default value), which uses the default pickle module implicitly. It is possible to construct malicious pickle data which will execute arbitrary code during unpickling (See https://github.com/pytorch/pytorch/blob/main/SECURITY.md#untrusted-models for more details). In a future release, the default value for `weights_only` will be flipped to `True`. This limits the functions that could be executed during unpickling. Arbitrary objects will no longer be allowed to be loaded via this mode unless they are explicitly allowlisted by the user via `torch.serialization.add_safe_globals`. We recommend you start setting `weights_only=True` for any use case where you don't have full control of the loaded file. Please open an issue on GitHub for any issues related to this experimental feature.\n",
            "  model.load_state_dict(torch.load('/content/drive/MyDrive/mestrado/monitoria/vgg16_model_weights.pth'))\n"
          ]
        },
        {
          "output_type": "execute_result",
          "data": {
            "text/plain": [
              "VGG(\n",
              "  (features): Sequential(\n",
              "    (0): Conv2d(3, 64, kernel_size=(3, 3), stride=(1, 1), padding=(1, 1))\n",
              "    (1): ReLU(inplace=True)\n",
              "    (2): Conv2d(64, 64, kernel_size=(3, 3), stride=(1, 1), padding=(1, 1))\n",
              "    (3): ReLU(inplace=True)\n",
              "    (4): MaxPool2d(kernel_size=2, stride=2, padding=0, dilation=1, ceil_mode=False)\n",
              "    (5): Conv2d(64, 128, kernel_size=(3, 3), stride=(1, 1), padding=(1, 1))\n",
              "    (6): ReLU(inplace=True)\n",
              "    (7): Conv2d(128, 128, kernel_size=(3, 3), stride=(1, 1), padding=(1, 1))\n",
              "    (8): ReLU(inplace=True)\n",
              "    (9): MaxPool2d(kernel_size=2, stride=2, padding=0, dilation=1, ceil_mode=False)\n",
              "    (10): Conv2d(128, 256, kernel_size=(3, 3), stride=(1, 1), padding=(1, 1))\n",
              "    (11): ReLU(inplace=True)\n",
              "    (12): Conv2d(256, 256, kernel_size=(3, 3), stride=(1, 1), padding=(1, 1))\n",
              "    (13): ReLU(inplace=True)\n",
              "    (14): Conv2d(256, 256, kernel_size=(3, 3), stride=(1, 1), padding=(1, 1))\n",
              "    (15): ReLU(inplace=True)\n",
              "    (16): MaxPool2d(kernel_size=2, stride=2, padding=0, dilation=1, ceil_mode=False)\n",
              "    (17): Conv2d(256, 512, kernel_size=(3, 3), stride=(1, 1), padding=(1, 1))\n",
              "    (18): ReLU(inplace=True)\n",
              "    (19): Conv2d(512, 512, kernel_size=(3, 3), stride=(1, 1), padding=(1, 1))\n",
              "    (20): ReLU(inplace=True)\n",
              "    (21): Conv2d(512, 512, kernel_size=(3, 3), stride=(1, 1), padding=(1, 1))\n",
              "    (22): ReLU(inplace=True)\n",
              "    (23): MaxPool2d(kernel_size=2, stride=2, padding=0, dilation=1, ceil_mode=False)\n",
              "    (24): Conv2d(512, 512, kernel_size=(3, 3), stride=(1, 1), padding=(1, 1))\n",
              "    (25): ReLU(inplace=True)\n",
              "    (26): Conv2d(512, 512, kernel_size=(3, 3), stride=(1, 1), padding=(1, 1))\n",
              "    (27): ReLU(inplace=True)\n",
              "    (28): Conv2d(512, 512, kernel_size=(3, 3), stride=(1, 1), padding=(1, 1))\n",
              "    (29): ReLU(inplace=True)\n",
              "    (30): MaxPool2d(kernel_size=2, stride=2, padding=0, dilation=1, ceil_mode=False)\n",
              "  )\n",
              "  (avgpool): AdaptiveAvgPool2d(output_size=(7, 7))\n",
              "  (classifier): Sequential(\n",
              "    (0): Linear(in_features=25088, out_features=4096, bias=True)\n",
              "    (1): ReLU(inplace=True)\n",
              "    (2): Dropout(p=0.5, inplace=False)\n",
              "    (3): Linear(in_features=4096, out_features=4096, bias=True)\n",
              "    (4): ReLU(inplace=True)\n",
              "    (5): Dropout(p=0.5, inplace=False)\n",
              "    (6): Linear(in_features=4096, out_features=1000, bias=True)\n",
              "  )\n",
              ")"
            ]
          },
          "metadata": {},
          "execution_count": 27
        }
      ]
    },
    {
      "cell_type": "markdown",
      "source": [
        "### Exercício\n",
        "\n",
        "Sua tarefa é construir uma rede neural simples em PyTorch para classificar as imagens do FashionMNIST.\n"
      ],
      "metadata": {
        "id": "WYV5rnVz3q-3"
      }
    },
    {
      "cell_type": "markdown",
      "source": [
        "Referências:\n",
        "\n",
        "https://pytorch.org/tutorials/beginner/basics/intro.html\n",
        "\n",
        "https://cs230.stanford.edu/blog/pytorch/\n",
        "\n",
        "https://www.dataquest.io/blog/pytorch-for-beginners/"
      ],
      "metadata": {
        "id": "6TYYQdT8Tt8L"
      }
    }
  ]
}